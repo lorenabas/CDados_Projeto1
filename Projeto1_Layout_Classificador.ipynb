{
 "cells": [
  {
   "cell_type": "markdown",
   "metadata": {},
   "source": [
    "# Projeto 1 - Ciência dos Dados"
   ]
  },
  {
   "cell_type": "markdown",
   "metadata": {},
   "source": [
    "Nome: Lorena Barbosa Antunes Da Silva\n",
    "\n",
    "Nome: José Edson Mendonça Ribeiro Lima Araújo"
   ]
  },
  {
   "cell_type": "markdown",
   "metadata": {},
   "source": [
    "Atenção: Serão permitidos grupos de três pessoas, mas com uma rubrica mais exigente. Grupos deste tamanho precisarão fazer um questionário de avaliação de trabalho em equipe"
   ]
  },
  {
   "cell_type": "markdown",
   "metadata": {},
   "source": [
    "___\n",
    "### Carregando algumas bibliotecas:"
   ]
  },
  {
   "cell_type": "code",
   "execution_count": 1,
   "metadata": {},
   "outputs": [],
   "source": [
    "%matplotlib inline\n",
    "import pandas as pd\n",
    "import matplotlib.pyplot as plt\n",
    "import numpy as np\n",
    "import os\n",
    "import emoji\n",
    "import seaborn as sn\n",
    "import nltk\n",
    "import unidecode"
   ]
  },
  {
   "cell_type": "code",
   "execution_count": 2,
   "metadata": {
    "scrolled": false
   },
   "outputs": [
    {
     "name": "stdout",
     "output_type": "stream",
     "text": [
      "Esperamos trabalhar no diretório\n",
      "C:\\Users\\José Edson Mendonça\\OneDrive - Insper - Institudo de Ensino e Pesquisa\\Documentos\\2° Semestre\\CDADOS\\CDados_Projeto1\n"
     ]
    }
   ],
   "source": [
    "print('Esperamos trabalhar no diretório')\n",
    "print(os.getcwd())"
   ]
  },
  {
   "cell_type": "markdown",
   "metadata": {},
   "source": [
    "### Carregando a base de dados com os tweets classificados como relevantes e não relevantes:"
   ]
  },
  {
   "cell_type": "code",
   "execution_count": 3,
   "metadata": {},
   "outputs": [],
   "source": [
    "filename = 'Peaky Blinders.xlsx'"
   ]
  },
  {
   "cell_type": "code",
   "execution_count": 4,
   "metadata": {},
   "outputs": [
    {
     "data": {
      "text/html": [
       "<div>\n",
       "<style scoped>\n",
       "    .dataframe tbody tr th:only-of-type {\n",
       "        vertical-align: middle;\n",
       "    }\n",
       "\n",
       "    .dataframe tbody tr th {\n",
       "        vertical-align: top;\n",
       "    }\n",
       "\n",
       "    .dataframe thead th {\n",
       "        text-align: right;\n",
       "    }\n",
       "</style>\n",
       "<table border=\"1\" class=\"dataframe\">\n",
       "  <thead>\n",
       "    <tr style=\"text-align: right;\">\n",
       "      <th></th>\n",
       "      <th>Treinamento</th>\n",
       "      <th>Classificação</th>\n",
       "    </tr>\n",
       "  </thead>\n",
       "  <tbody>\n",
       "    <tr>\n",
       "      <th>0</th>\n",
       "      <td>peaky fucking blinders foi a melhor coisa que ...</td>\n",
       "      <td>1.0</td>\n",
       "    </tr>\n",
       "    <tr>\n",
       "      <th>1</th>\n",
       "      <td>@limawt1 peaky blinders está vindo em breve!! ...</td>\n",
       "      <td>0.0</td>\n",
       "    </tr>\n",
       "    <tr>\n",
       "      <th>2</th>\n",
       "      <td>gente cancela ele me seguiu de outro instagram...</td>\n",
       "      <td>0.0</td>\n",
       "    </tr>\n",
       "    <tr>\n",
       "      <th>3</th>\n",
       "      <td>até eu que não sou fumante fico com vontade de...</td>\n",
       "      <td>0.0</td>\n",
       "    </tr>\n",
       "    <tr>\n",
       "      <th>4</th>\n",
       "      <td>tou a curtir bue de peaky blinders</td>\n",
       "      <td>1.0</td>\n",
       "    </tr>\n",
       "  </tbody>\n",
       "</table>\n",
       "</div>"
      ],
      "text/plain": [
       "                                         Treinamento  Classificação\n",
       "0  peaky fucking blinders foi a melhor coisa que ...            1.0\n",
       "1  @limawt1 peaky blinders está vindo em breve!! ...            0.0\n",
       "2  gente cancela ele me seguiu de outro instagram...            0.0\n",
       "3  até eu que não sou fumante fico com vontade de...            0.0\n",
       "4                 tou a curtir bue de peaky blinders            1.0"
      ]
     },
     "execution_count": 4,
     "metadata": {},
     "output_type": "execute_result"
    }
   ],
   "source": [
    "train = pd.read_excel(filename)\n",
    "linha=np.arange(0,300,1)\n",
    "train=train.iloc[linha,[0,1]]\n",
    "train.head(5)"
   ]
  },
  {
   "cell_type": "code",
   "execution_count": 5,
   "metadata": {},
   "outputs": [
    {
     "data": {
      "text/html": [
       "<div>\n",
       "<style scoped>\n",
       "    .dataframe tbody tr th:only-of-type {\n",
       "        vertical-align: middle;\n",
       "    }\n",
       "\n",
       "    .dataframe tbody tr th {\n",
       "        vertical-align: top;\n",
       "    }\n",
       "\n",
       "    .dataframe thead th {\n",
       "        text-align: right;\n",
       "    }\n",
       "</style>\n",
       "<table border=\"1\" class=\"dataframe\">\n",
       "  <thead>\n",
       "    <tr style=\"text-align: right;\">\n",
       "      <th></th>\n",
       "      <th>Teste</th>\n",
       "      <th>Classificação</th>\n",
       "    </tr>\n",
       "  </thead>\n",
       "  <tbody>\n",
       "    <tr>\n",
       "      <th>0</th>\n",
       "      <td>em relação a esta coisa toda do possível novo ...</td>\n",
       "      <td>0.0</td>\n",
       "    </tr>\n",
       "    <tr>\n",
       "      <th>1</th>\n",
       "      <td>meu pai botou peaky blinders pra gente ver vo ...</td>\n",
       "      <td>1.0</td>\n",
       "    </tr>\n",
       "    <tr>\n",
       "      <th>2</th>\n",
       "      <td>@meltedvideos ele está parecendo um peaky blin...</td>\n",
       "      <td>0.0</td>\n",
       "    </tr>\n",
       "    <tr>\n",
       "      <th>3</th>\n",
       "      <td>o cara realmente lançou que viu umbrella acade...</td>\n",
       "      <td>0.0</td>\n",
       "    </tr>\n",
       "    <tr>\n",
       "      <th>4</th>\n",
       "      <td>que saudades que eu tava de assistir peaky bli...</td>\n",
       "      <td>1.0</td>\n",
       "    </tr>\n",
       "  </tbody>\n",
       "</table>\n",
       "</div>"
      ],
      "text/plain": [
       "                                               Teste  Classificação\n",
       "0  em relação a esta coisa toda do possível novo ...            0.0\n",
       "1  meu pai botou peaky blinders pra gente ver vo ...            1.0\n",
       "2  @meltedvideos ele está parecendo um peaky blin...            0.0\n",
       "3  o cara realmente lançou que viu umbrella acade...            0.0\n",
       "4  que saudades que eu tava de assistir peaky bli...            1.0"
      ]
     },
     "execution_count": 5,
     "metadata": {},
     "output_type": "execute_result"
    }
   ],
   "source": [
    "test = pd.read_excel(filename, sheet_name = 'Teste')\n",
    "linha=np.arange(0,200,1)\n",
    "test=test.iloc[linha,[0,1]]\n",
    "test.head(5)"
   ]
  },
  {
   "cell_type": "markdown",
   "metadata": {},
   "source": [
    "___\n",
    "## Classificador automático de sentimento\n"
   ]
  },
  {
   "cell_type": "markdown",
   "metadata": {},
   "source": [
    "Faça aqui uma descrição do seu produto e o que considerou como relevante ou não relevante na classificação dos tweets.\n",
    "\n",
    "Neste CLASSIFICADOR AUTOMÁTICO DE SENTIMENTO, considera-se a relevância de tweets acerca da série Peaky Blinders. Tweets que apresentam mensagens com sentimentos e respostas relacionados à  série, são considerados como relevantes, sendo positivos ou negativos, elogios ou críticas sobre o enredo, além de menções de que estão assistindo ou que indicaram a série. \n",
    "\n",
    "Exemplo: \"Não curti assistir Peaky Blinders\", \"@user1 vc precisa assistir peaky blinders\", \"acabei de maratonar essa serie peaky blinders\"."
   ]
  },
  {
   "cell_type": "markdown",
   "metadata": {},
   "source": [
    "___\n",
    "### Montando um Classificador Naive-Bayes\n",
    "\n",
    "Considerando apenas as mensagens da planilha Treinamento, ensine  seu classificador."
   ]
  },
  {
   "cell_type": "code",
   "execution_count": 45,
   "metadata": {},
   "outputs": [],
   "source": [
    "from IPython.display import display\n",
    "pd.options.display.max_rows = 13\n",
    "\n",
    "\n",
    "import re \n",
    "\n",
    "\n",
    "\n",
    "def cleanup(text):\n",
    "    \"\"\"\n",
    "        Função de limpeza muito simples que troca alguns sinais básicos por espaços\n",
    "    \"\"\"\n",
    "    #import string\n",
    "    limpa=' '.join(emoji.get_emoji_regexp().split(text))\n",
    "    punctuation = '[!-.:?;]' # Note que os sinais [] são delimitadores de um conjunto.\n",
    "    pattern = re.compile(punctuation)\n",
    "    \n",
    "    limpa = re.sub(\"@[A-Za-z0-9_]+\",\"\", limpa)\n",
    "    limpa = re.sub(\"#[A-Za-z0-9_]+\",\"\", limpa)\n",
    "    limpa = unidecode.unidecode(limpa)\n",
    "    limpa = re.sub(r\"http\\S+\", \"\", limpa)\n",
    "    text_subbed = re.sub(pattern, '', limpa)\n",
    "    return text_subbed"
   ]
  },
  {
   "cell_type": "markdown",
   "metadata": {},
   "source": [
    "### Funções a serem utilizadas"
   ]
  },
  {
   "cell_type": "markdown",
   "metadata": {},
   "source": [
    "##### Remoção de preposições"
   ]
  },
  {
   "cell_type": "code",
   "execution_count": 131,
   "metadata": {},
   "outputs": [
    {
     "name": "stderr",
     "output_type": "stream",
     "text": [
      "[nltk_data] Downloading package stopwords to C:\\Users\\José Edson\n",
      "[nltk_data]     Mendonça\\AppData\\Roaming\\nltk_data...\n",
      "[nltk_data]   Package stopwords is already up-to-date!\n"
     ]
    }
   ],
   "source": [
    "nltk.download('stopwords')\n",
    "preposicoes = nltk.corpus.stopwords.words('portuguese')\n",
    "preposicoes.append('')\n",
    "\n",
    "def funçao_stop_words(lista):\n",
    "    sem_prep=[]     \n",
    "    for palavra in lista: \n",
    "        if palavra in sem_prep: \n",
    "            continue\n",
    "        else:\n",
    "            sem_prep.append(palavra)\n",
    " \n",
    "    return sem_prep"
   ]
  },
  {
   "cell_type": "markdown",
   "metadata": {},
   "source": [
    "##### Tornando as letras minúsculas"
   ]
  },
  {
   "cell_type": "code",
   "execution_count": 132,
   "metadata": {},
   "outputs": [],
   "source": [
    "def lower(comentario):\n",
    "    return comentario.lower()"
   ]
  },
  {
   "cell_type": "markdown",
   "metadata": {},
   "source": [
    "##### Junção de elementos em String"
   ]
  },
  {
   "cell_type": "code",
   "execution_count": 133,
   "metadata": {},
   "outputs": [],
   "source": [
    "def junta_elemento(lista):\n",
    "    return ' '.join(lista)"
   ]
  },
  {
   "cell_type": "markdown",
   "metadata": {},
   "source": [
    "##### Aplicação de contínua de funções anteriores"
   ]
  },
  {
   "cell_type": "code",
   "execution_count": 297,
   "metadata": {},
   "outputs": [],
   "source": [
    "def aplicacao(comentario):\n",
    "    retira_falhas=(cleanup(lower(comentario)))\n",
    "    transcricao=separa_elemento(retira_falhas)\n",
    "    c_limpo=junta_elemento(funçao_stop_words(transcricao))\n",
    "    return c_limpo"
   ]
  },
  {
   "cell_type": "markdown",
   "metadata": {},
   "source": [
    "##### Transformando lista em series"
   ]
  },
  {
   "cell_type": "code",
   "execution_count": 298,
   "metadata": {},
   "outputs": [],
   "source": [
    "def cria_series(frases):\n",
    "    frases += ''\n",
    "    return pd.Series(separa_elemento(frases))    "
   ]
  },
  {
   "cell_type": "markdown",
   "metadata": {},
   "source": [
    "##### Categorização de palavras"
   ]
  },
  {
   "cell_type": "code",
   "execution_count": 299,
   "metadata": {},
   "outputs": [],
   "source": [
    "\n",
    "#Transformando palavras em variáveis categóricas:\n",
    "train['Treinamento'] = train['Treinamento'].astype('category')\n",
    "test['Teste'] = test['Teste'].astype('category')"
   ]
  },
  {
   "cell_type": "markdown",
   "metadata": {},
   "source": [
    "# TREINAMENTO"
   ]
  },
  {
   "cell_type": "markdown",
   "metadata": {},
   "source": [
    "##### Separação de comentários relevantes e irrelevantes"
   ]
  },
  {
   "cell_type": "code",
   "execution_count": 300,
   "metadata": {
    "scrolled": false
   },
   "outputs": [],
   "source": [
    "comentarios_relevantes=[]\n",
    "comentarios_irrelevantes=[]\n",
    "for i in range(0,300,1):\n",
    "    comentario=cleanup(train.Treinamento[i]).lower().split()\n",
    "    if train.Classificação[i]==1:\n",
    "        comentarios_relevantes.append(comentario)\n",
    "    elif train.Classificação[i]==0:\n",
    "        comentarios_irrelevantes.append(comentario)\n"
   ]
  },
  {
   "cell_type": "markdown",
   "metadata": {},
   "source": [
    "##### Remoção de @ e links dos tweets"
   ]
  },
  {
   "cell_type": "code",
   "execution_count": 301,
   "metadata": {},
   "outputs": [],
   "source": [
    "l_irrelevantes=[]\n",
    "l_relevantes=[]\n",
    "for comentario in comentarios_irrelevantes:\n",
    "    lista_remocao=[]\n",
    "    for palavra in comentario:\n",
    "        if  palavra[0]=='@' or 'htt' == palavra[0:3]:\n",
    "            lista_remocao.append(palavra)\n",
    "    for palavra in lista_remocao:\n",
    "        comentario.remove(palavra)\n",
    "    for palavra in comentario:\n",
    "        l_irrelevantes.append(palavra)\n",
    "        \n",
    "for comentario in comentarios_relevantes:\n",
    "    lista_remocao=[]\n",
    "    for palavra in comentario:\n",
    "        if  palavra[0]=='@' or 'htt' == palavra[0:3]:\n",
    "            lista_remocao.append(palavra)\n",
    "    for palavra in lista_remocao:\n",
    "        comentario.remove(palavra)\n",
    "\n",
    "for comentario in comentarios_irrelevantes:\n",
    "    for palavra in comentario:\n",
    "        l_irrelevantes.append(palavra)\n",
    "for comentario in comentarios_relevantes:\n",
    "    for palavra in comentario:\n",
    "        l_relevantes.append(palavra)"
   ]
  },
  {
   "cell_type": "markdown",
   "metadata": {},
   "source": [
    "# Separação de Tweets Relevantes, Irrelevantes e Totais"
   ]
  },
  {
   "cell_type": "markdown",
   "metadata": {},
   "source": [
    "### Tweets Relevantes"
   ]
  },
  {
   "cell_type": "markdown",
   "metadata": {},
   "source": [
    "##### Guardando em um pd.Series"
   ]
  },
  {
   "cell_type": "code",
   "execution_count": 302,
   "metadata": {},
   "outputs": [],
   "source": [
    "s_l_relevantes=  pd.Series(l_relevantes)"
   ]
  },
  {
   "cell_type": "markdown",
   "metadata": {},
   "source": [
    "##### Frequências Absolutas"
   ]
  },
  {
   "cell_type": "code",
   "execution_count": 303,
   "metadata": {},
   "outputs": [],
   "source": [
    "tab_relevantes = s_l_relevantes.value_counts()"
   ]
  },
  {
   "cell_type": "markdown",
   "metadata": {},
   "source": [
    "### Tweets Irrelevantes"
   ]
  },
  {
   "cell_type": "markdown",
   "metadata": {},
   "source": [
    "##### Guardando em um pd.Series"
   ]
  },
  {
   "cell_type": "code",
   "execution_count": 304,
   "metadata": {},
   "outputs": [],
   "source": [
    "s_l_irrelevantes=  pd.Series(l_irrelevantes)"
   ]
  },
  {
   "cell_type": "markdown",
   "metadata": {},
   "source": [
    "##### Frequências Absolutas"
   ]
  },
  {
   "cell_type": "code",
   "execution_count": 305,
   "metadata": {},
   "outputs": [],
   "source": [
    "tab_irrelevantes = s_l_irrelevantes.value_counts()"
   ]
  },
  {
   "cell_type": "markdown",
   "metadata": {},
   "source": [
    "### Tweets Totais"
   ]
  },
  {
   "cell_type": "markdown",
   "metadata": {},
   "source": [
    "##### Acumulação de comentários relevantes e irrelevantes em uma mesma lista"
   ]
  },
  {
   "cell_type": "code",
   "execution_count": 306,
   "metadata": {},
   "outputs": [],
   "source": [
    "total = comentarios_relevantes + comentarios_irrelevantes\n",
    "lista_total = l_irrelevantes + l_relevantes"
   ]
  },
  {
   "cell_type": "markdown",
   "metadata": {},
   "source": [
    "##### Guardando em pd.Series e Verificando a Frequencia Absoluta de todas as palavras em relação aos dois conjuntos somados"
   ]
  },
  {
   "cell_type": "code",
   "execution_count": 307,
   "metadata": {},
   "outputs": [],
   "source": [
    "s_l_total = pd.Series(lista_total)\n",
    "tab_l_total= s_l_total.value_counts()"
   ]
  },
  {
   "cell_type": "markdown",
   "metadata": {},
   "source": [
    "# Probabilidades"
   ]
  },
  {
   "cell_type": "markdown",
   "metadata": {},
   "source": [
    "#Lorena"
   ]
  },
  {
   "cell_type": "code",
   "execution_count": 308,
   "metadata": {},
   "outputs": [
    {
     "data": {
      "text/plain": [
       "1.0"
      ]
     },
     "execution_count": 308,
     "metadata": {},
     "output_type": "execute_result"
    }
   ],
   "source": [
    "P_relevante = len(l_relevantes)/len(lista_total)\n",
    "P_irrelevante = len(l_irrelevantes)/len(lista_total)\n",
    "P_relevante + P_irrelevante"
   ]
  },
  {
   "cell_type": "markdown",
   "metadata": {},
   "source": [
    "# Funções para Realização dde Suavização de Laplace"
   ]
  },
  {
   "cell_type": "markdown",
   "metadata": {},
   "source": [
    "##### Frequência Absoluta na  base de dados."
   ]
  },
  {
   "cell_type": "code",
   "execution_count": 309,
   "metadata": {},
   "outputs": [],
   "source": [
    "def frequencia_absoluta(palavra,dados_freq_abs):\n",
    "    \n",
    "    try:\n",
    "        return dados_freq_abs[palavra]\n",
    "    except:\n",
    "        return 0"
   ]
  },
  {
   "cell_type": "markdown",
   "metadata": {},
   "source": [
    "### Aplicação da Suavização de Laplace"
   ]
  },
  {
   "cell_type": "code",
   "execution_count": null,
   "metadata": {},
   "outputs": [],
   "source": [
    "#Lorena"
   ]
  },
  {
   "cell_type": "code",
   "execution_count": 310,
   "metadata": {},
   "outputs": [],
   "source": [
    "def laplace(freq_abs,palavras_por_relevancia):\n",
    "    return(freq_abs+1)/(len(palavras_por_relevancia)+len(lista_total))"
   ]
  },
  {
   "cell_type": "markdown",
   "metadata": {},
   "source": [
    "##### Cálculo de probabilidade para um tweet dado como relevante ser classificado como tal"
   ]
  },
  {
   "cell_type": "code",
   "execution_count": 311,
   "metadata": {},
   "outputs": [],
   "source": [
    "def P_comentario_dado_rel(coment):\n",
    "  \n",
    "    P_comentario_dado_relevante=1\n",
    "    separa_coment=coment.split(',')\n",
    "    for palavra in separa_coment:\n",
    "        freq_abs=frequencia_absoluta(palavra,tab_relevantes)\n",
    "        prob_palavra=laplace(freq_abs,l_relevantes)\n",
    "        P_comentario_dado_relevante*=prob_palavra\n",
    "    return P_comentario_dado_relevante"
   ]
  },
  {
   "cell_type": "markdown",
   "metadata": {},
   "source": [
    "##### Cálculo de probabilidade para um tweet dado como irrelevante ser classificado como tal"
   ]
  },
  {
   "cell_type": "code",
   "execution_count": 312,
   "metadata": {},
   "outputs": [],
   "source": [
    "def P_comentario_dado_irrel(coment):\n",
    "   \n",
    "    P_comentario_dado_irrelevante=1\n",
    "    separa_coment=coment.split(',')\n",
    "    for palavra in separa_coment:\n",
    "        freq_abs=frequencia_absoluta(palavra,tab_irrelevantes)\n",
    "        prob_palavra=laplace(freq_abs,l_irrelevantes)\n",
    "        P_comentario_dado_irrelevante*=prob_palavra\n",
    "    return P_comentario_dado_irrelevante"
   ]
  },
  {
   "cell_type": "markdown",
   "metadata": {},
   "source": [
    "### Aplicação do Algoritmo de Naive Bayes"
   ]
  },
  {
   "cell_type": "code",
   "execution_count": null,
   "metadata": {},
   "outputs": [],
   "source": [
    "#LOrena"
   ]
  },
  {
   "cell_type": "code",
   "execution_count": 313,
   "metadata": {},
   "outputs": [],
   "source": [
    "def NB (comentario):\n",
    "    relevancia_classificador=[]\n",
    "    if  P_comentario_dado_rel(comentario)*P_relevante >P_comentario_dado_irrel(comentario)*P_irrelevante:\n",
    "        print(P_comentario_dado_rel(comentario)*P_relevante)\n",
    "        print(P_comentario_dado_irrel(comentario)*P_irrelevante)\n",
    "        relevancia_classificador.append(1)\n",
    "        return 1\n",
    "    else:\n",
    "        relevancia_classificador.append(0)\n",
    "        return 0"
   ]
  },
  {
   "cell_type": "markdown",
   "metadata": {},
   "source": [
    "___\n",
    "### Verificando a performance do Classificador\n",
    "\n",
    "Agora você deve testar o seu classificador com a base de Testes."
   ]
  },
  {
   "cell_type": "markdown",
   "metadata": {},
   "source": [
    "# TESTE"
   ]
  },
  {
   "cell_type": "code",
   "execution_count": 395,
   "metadata": {},
   "outputs": [],
   "source": [
    "test_relevantes=[]\n",
    "test_irrelevantes=[]\n",
    "test_total = []\n",
    "\n",
    "for i in range(0,200,1):\n",
    "    comentarios_test=cleanup(test.Teste[i]).lower().split()\n",
    "    \n",
    "    if test.Classificação[i]==1:\n",
    "        test_relevantes.append(comentarios_test)\n",
    "\n",
    "    elif test.Classificação[i]==0:\n",
    "        test_irrelevantes.append(comentarios_test)\n",
    "\n",
    "    "
   ]
  },
  {
   "cell_type": "code",
   "execution_count": 400,
   "metadata": {},
   "outputs": [],
   "source": [
    "l_test_irrelevantes=[]\n",
    "l_test_relevantes=[]\n",
    "for comentario in test_irrelevantes:\n",
    "    lista_remocao=[]\n",
    "    for palavra in comentario:\n",
    "        if  palavra[0]=='@' or 'htt' == palavra[0:3]:\n",
    "            lista_remocao.append(palavra)\n",
    "    for palavra in lista_remocao:\n",
    "        comentario.remove(palavra)\n",
    "    for palavra in comentario:\n",
    "        l_test_irrelevantes.append(palavra)\n",
    "        \n",
    "for comentario in test_relevantes:\n",
    "    lista_remocao=[]\n",
    "    for palavra in comentario:\n",
    "        if  palavra[0]=='@' or 'htt' == palavra[0:3]:\n",
    "            lista_remocao.append(palavra)\n",
    "    for palavra in lista_remocao:\n",
    "        comentario.remove(palavra)\n",
    "\n",
    "for comentario in test_irrelevantes:\n",
    "    for palavra in comentario:\n",
    "        l_test_irrelevantes.append(palavra)\n",
    "for comentario in test_relevantes:\n",
    "    for palavra in comentario:\n",
    "        l_test_relevantes.append(palavra)"
   ]
  },
  {
   "cell_type": "code",
   "execution_count": null,
   "metadata": {},
   "outputs": [],
   "source": [
    "test_total =l_test_relevantes+l_test_irrelevantes"
   ]
  },
  {
   "cell_type": "markdown",
   "metadata": {},
   "source": [
    "### CONCLUINDO"
   ]
  },
  {
   "cell_type": "markdown",
   "metadata": {},
   "source": [
    "### Adição de uma nova coluna no Data Frame"
   ]
  },
  {
   "cell_type": "code",
   "execution_count": null,
   "metadata": {},
   "outputs": [],
   "source": [
    "test[\"Relevancia_Classificador\"]=relevancia_classificador"
   ]
  },
  {
   "cell_type": "markdown",
   "metadata": {},
   "source": [
    "### Matriz de Confusão "
   ]
  },
  {
   "cell_type": "markdown",
   "metadata": {},
   "source": [
    "Buscando uma visualização melhor, plota-se uma matriz de confusão por meio de uma tabelza cruzada."
   ]
  },
  {
   "cell_type": "code",
   "execution_count": 402,
   "metadata": {},
   "outputs": [],
   "source": [
    "Matriz_de_Comparação = pd.crosstab(test[\"Classificação\"] , test[\"Relevancia_Classificador\"], normalize=True)*100\n",
    "\n",
    "false_p = Matriz_de_Comparação[1][0]\n",
    "true_p = Matriz_de_Comparação[1][1]\n",
    "fake_n = Matriz_de_Comparação[0][1]\n",
    "true_n = Matriz_de_Comparação[0][0]"
   ]
  },
  {
   "cell_type": "code",
   "execution_count": 401,
   "metadata": {},
   "outputs": [
    {
     "data": {
      "image/png": "[encoded data removed]",
      "text/plain": [
       "<Figure size 720x504 with 2 Axes>"
      ]
     },
     "metadata": {
      "needs_background": "light"
     },
     "output_type": "display_data"
    }
   ],
   "source": [
    "Matriz_de_Comparação\n",
    "plt.figure(figsize=(10,7))\n",
    "plt.title('Matriz de Comparação')\n",
    "sn.heatmap(Matriz_de_Comparação/100, annot=True, annot_kws={\"size\": 30}, fmt='.1%', cmap='YlGnBu')\n",
    "plt.show()"
   ]
  },
  {
   "cell_type": "markdown",
   "metadata": {},
   "source": [
    "##### Informações sobre falsos (positivo e negativo) e verdadeiros(positivos e negativos)"
   ]
  },
  {
   "cell_type": "code",
   "execution_count": 398,
   "metadata": {},
   "outputs": [
    {
     "name": "stdout",
     "output_type": "stream",
     "text": [
      "O percentual de falsos positivo foi de :32.50%\n",
      "O percentual de verdadeiros positivo foi de :40.50%\n",
      "O percentual de falsos negativo foi de :4.50%\n",
      "O percentual de verdadeiros negativo foi de :22.50%\n"
     ]
    }
   ],
   "source": [
    "print(\"O percentual de falsos positivo foi de :{0:.2f}%\".format(false_p))\n",
    "print(\"O percentual de verdadeiros positivo foi de :{0:.2f}%\".format(true_p))\n",
    "print(\"O percentual de falsos negativo foi de :{0:.2f}%\".format(fake_n))\n",
    "print(\"O percentual de verdadeiros negativo foi de :{0:.2f}%\".format(true_n))"
   ]
  },
  {
   "cell_type": "markdown",
   "metadata": {},
   "source": [
    "##### Demonstração da Acurácia do Classificador"
   ]
  },
  {
   "cell_type": "markdown",
   "metadata": {},
   "source": [
    "A acurácia é representada pela soma dos percentuais de verdadeiros(positivos e negativos)"
   ]
  },
  {
   "cell_type": "code",
   "execution_count": 399,
   "metadata": {},
   "outputs": [
    {
     "name": "stdout",
     "output_type": "stream",
     "text": [
      "A acurácia do classificador foi de:63.00%\n"
     ]
    }
   ],
   "source": [
    "print(\"A acurácia do classificador foi de:{0:.2f}%\".format(Matriz_de_Comparação[0][0] + Matriz_de_Comparação[1][1]))"
   ]
  },
  {
   "cell_type": "markdown",
   "metadata": {},
   "source": [
    "Nosso classificador teve uma **acurácia de 63,00%**, o que significa que ele classifica de forma adequada **63,00%** dos tweets analisados.\n",
    "* Observou-se um percentual de **42,00% verdadeiros positivos**, ou seja, aproximadamente **42,00%** dos comentários relevantes foram corretamente classificados como relevantes. \n",
    "* Observou-se um percentual de **34,50% falsos positivos**, ou seja, aproximadamente **34,50%** dos comentários irrelevantes foram incorretamente classificados como relevantes. \n",
    "* Observou-se um percentual de **20,50% verdadeiros negativos**, ou seja, aproximadamente **20,50%** dos comentários irrelevantes foram corretamente classificados como irrelevantes. \n",
    "* Observou-se um percentual de **3,00% falsos negativos**, ou seja, aproximadamente **3,00%** dos comentários relevantes foram incorretamente classificados como irrelevantes. "
   ]
  },
  {
   "cell_type": "markdown",
   "metadata": {},
   "source": [
    "##### Sarcasmo e dupla negação\n",
    "\n",
    "Neste projeto, com o classificador Naïve-Bayes, assumiu-se a independência entre as palavras, considerando-se apenas a probabilidade destas de aparecerem em determinada categoria. Ou seja, o classificador não leva em consideração as relações entre palavras e a sintaxe da língua portuguesa. O que pode levar à uma classificação errônea de frases sarcásticas, ou com dupla negação."
   ]
  },
  {
   "cell_type": "code",
   "execution_count": 381,
   "metadata": {},
   "outputs": [
    {
     "name": "stdout",
     "output_type": "stream",
     "text": [
      "Peaky Binders é tão bom quanto tomar chuva\n",
      "A Frase é classificada como Irrelevante\n"
     ]
    }
   ],
   "source": [
    "frase_sarcastica = \"Peaky Binders é tão bom quanto tomar chuva\"\n",
    "if NB(aplicacao(frase_sarcastica))==1:\n",
    "    print(frase_sarcastica)\n",
    "    print('A Frase é classificada como Relevante')\n",
    "if NB(aplicacao(frase_sarcastica))==0:\n",
    "    print(frase_sarcastica)\n",
    "    print('A Frase é classificada como Irrelevante')"
   ]
  },
  {
   "cell_type": "code",
   "execution_count": 382,
   "metadata": {},
   "outputs": [
    {
     "name": "stdout",
     "output_type": "stream",
     "text": [
      "Eu nunca não vou assistir Peaky Blinders\n",
      "A Frase é classificada como Irrelevante\n"
     ]
    }
   ],
   "source": [
    "frase_duplanegacao = \"Eu nunca não vou assistir Peaky Blinders\"\n",
    "if NB(frase_duplanegacao)==1:\n",
    "    print('A Frase é classificada como Relevante')\n",
    "if NB(frase_duplanegacao)==0:\n",
    "    print(frase_duplanegacao)\n",
    "    print('A Frase é classificada como Irrelevante')"
   ]
  },
  {
   "cell_type": "markdown",
   "metadata": {},
   "source": [
    "##### Plano de Expansão\n",
    "\n",
    "Tendo em considereção que o projeto já apresentou 63,0% de acurácia. Para que o classificador fosse mais preciso poder-se-iam fazer futuras iterações que justificariam um maior investimento no projeto, como uma limpeza adicional dos tweets obtidos; levar em conta a sintaxe e organização entre palavras da língua portuguesa, ou seja, não admitir que as palavras têm probabilidade de aparecer em uma frase independentemente.\n",
    "Ademais, acrescenta-se que existe necessidade de melhorias para atender melhor o perfil de cada empresa, dado que saber o que cada área busca, pode facilitar a classificação. Por exemplo, a área de cinema e audiovisual desejasaber como está o sentimento com base em determinado personagem, ou determinado episódio, esse tipo de especificação pode aumentar a acurácia do modelo."
   ]
  },
  {
   "cell_type": "markdown",
   "metadata": {},
   "source": [
    "### Por que não posso alimentar minha base de Treinamento automaticamente usando o próprio classificador, aplicado a novos tweets?"
   ]
  },
  {
   "cell_type": "markdown",
   "metadata": {},
   "source": [
    "Explica-se que a utilização da ase de treinamento para uso automático do próprio classificador não é benéfico para a classificação, dado que o classificador toma a base de Treinamento como uma fonte de classificação, isso determinaria um enviesamento para a classificação, o que não faz parte do objetivo do projeto. Seria a comparação de um exemplo com ele próprio.\n",
    "\n",
    "Além disso, ocorre que a base de dados sofre um efeito denominado Overfitting devido ao treinamento não ser suficiente para gerar classificações mais acertivas quando o sistema recebe novos tweets. Ou seja, apesar de ocorrer uma alta acurácia, a generalização é baixa, afetando a veracidade das classificações."
   ]
  },
  {
   "cell_type": "markdown",
   "metadata": {},
   "source": [
    "### Diferentes cenários de uso para o classificador Naive-Bayes"
   ]
  },
  {
   "cell_type": "markdown",
   "metadata": {},
   "source": [
    "##### 1) Análises de Fraude\n",
    "Análise das contas enviadas pelo funcionário solicitando reembolso de despesas de alimentação, transporte, etc. Com esse banco de dados, a empresa pode prever a probabilidade de fraude.\n",
    "O estudo traz com exemplos, ideias de possíveis fraudes quepoderiam ser utilizadas para fraudar o sistema bancário. Além disso, acrescenta com possíveis liberações de crédito para os clientes, se baseando nos dados referentes ao cliente.\n",
    "\n",
    "FONTE: https://www.dataversity.net/what-is-naive-bayes-classification-and-how-is-it-used-for-enterprise-analysis/#"
   ]
  },
  {
   "cell_type": "markdown",
   "metadata": {},
   "source": [
    "##### 2) Diagnóstico de Doenças\n",
    "O método pode ser aplicado em diagnóstico de doenças, como é mostrado na postagem, dado que ao realizarem os testes, coletas e análises, os setores de saúde passam a ter dados referente ao paciente.\n",
    "Com a tubulação dos dados, os membros de saúde podem avaliar a realidade de determinado resultado, como é tratado no exemplo: \"Se um pessoa realizar um teste e receber um positivo, qual a probabilidade dela realmente estar doente?\"\n",
    "Com essa perspectiva, a área da saúde vem se conectando cada vez mais com a Ciência de Dados, buscando probabilidades para a saúde dos pacientes, visando prevenções econômicas, físicas e mentais.\n",
    "\n",
    "FONTE: https://www.datageeks.com.br/naive-bayes/"
   ]
  },
  {
   "cell_type": "markdown",
   "metadata": {},
   "source": [
    "##### 3) Previsão do Tempo \n",
    "O artigo está relacionado a utilização de dados metereológics para entender determinadas situações. Comenta-se que a ocorrência de partidas esportivas estão diretamente relacionametas ao clima/tempo que do momento da ocorrência. O artigo relaciona temperatura, umidade,vent, etc. à realização de uma partida de golf. Logo, os analistas conferem se as condições climáticas estão favoráveis para a ocorrência. O artigo apresenta uma das muitas relações que o esporte vem desenvolvendo com a tecnologia. A utilização de dados para melhorar o momento das disputas, diminui o número de acidentes, melhora o show que cerca cada partida, além de beneficiar os clientes que conseguirão ter uma melhor participação nos eventos.\n",
    "\n",
    "FONTE:https://www.geeksforgeeks.org/naive-bayes-classifiers/"
   ]
  },
  {
   "cell_type": "markdown",
   "metadata": {},
   "source": [
    "### Sugestões de melhorias\n"
   ]
  },
  {
   "cell_type": "markdown",
   "metadata": {},
   "source": [
    "##### 1) SARCASMO E DUPLA NEGAÇÃO\n",
    "Permitir por meio de código que o classificador note a presença de sarcasmo e dupla negação, pois principalmente, em redes sociais, o uso é comum e passa despercebido pelo classificador, ocorrendo classificações errôneas, alterando a acurácia do modelo."
   ]
  },
  {
   "cell_type": "markdown",
   "metadata": {},
   "source": [
    "##### 2) AUMENTO DO TAMANHO DO DATA FRAME PARA TREINAMENTO\n",
    "O aumento da base de treinamento permite que o classificador tenha acesso a uma fonte maior de dados. Assim, a a alimentação cada vez maior, permite um aumento considerável na acurácia do classificador."
   ]
  },
  {
   "cell_type": "markdown",
   "metadata": {},
   "source": [
    "##### 3) ADIÇÃO DE CLASSIFICAÇÕES INTERMEDIÁRIAS\n",
    "Considera-se que estão sendo realizadas somente duas classificações(relevante(1) e irrelevante(0)). Com a adição de novas classificações, poderiamos entender melhor os tweets com base nas probabilidades. Divisões como: irrelevante, pouco irrelevante, neutro, relevante, muito relevante."
   ]
  },
  {
   "cell_type": "markdown",
   "metadata": {},
   "source": []
  },
  {
   "cell_type": "markdown",
   "metadata": {},
   "source": [
    "___\n",
    "### Qualidade do Classificador a partir de novas separações dos tweets entre Treinamento e Teste\n"
   ]
  },
  {
   "cell_type": "markdown",
   "metadata": {},
   "source": [
    "Nesse momento, serão juntados os 500 tweets e \n",
    "hospedados em um novo dataframe.Com a concatenação, aplica-se a limpeza do dataframe.\n",
    "Após isso, os tweets serão divididos aleatoriamente pela\n",
    "função \"train_test_split\" da biblioteca sklearn.model_selection,adotando uma proporção de 30%, o que representa uma semelhança à distribuição feita no início do projeto (200/300). \n",
    "Essa divisão aleatória permite que os dataframes "
   ]
  },
  {
   "cell_type": "code",
   "execution_count": 437,
   "metadata": {},
   "outputs": [],
   "source": [
    "from sklearn.model_selection import train_test_split\n",
    "repeticoes=100\n",
    "l_histograma=[]\n",
    "while repeticoes!=0:\n",
    "    \n",
    "    test_split = pd.read_excel(filename, sheet_name = 'Teste').rename(columns={'Teste':'Total'})\n",
    "    train_split = pd.read_excel(filename, sheet_name = 'Treinamento').rename(columns={'Treinamento':'Total'})\n",
    "\n",
    "    #Concatenando\n",
    "    base_total = pd.concat([train_split,test_split])\n",
    "    #Limpando os tweets\n",
    "    base_total['Relevância']=base_total['Total'].apply(aplicacao)\n",
    "    base_total.head()\n",
    "    X_train, X_test, y_train, y_test = train_test_split(base_total[['Relevância','Classificação']],base_total.Classificação,test_size=0.3)\n",
    " \n",
    "    train_rel_new = X_train[X_train['Classificação']==1]\n",
    "    train_irrel_new = X_train[X_train['Classificação']==0]\n",
    "    comentarios_rel = (train_rel_new['Relevância'])\n",
    "    comentarios_irrel = (train_irrel_new['Relevância'])\n",
    "    comentarios=comentarios_rel+comentarios_irrel\n",
    "\n",
    "    # Gera duas listas com as palavras relevantes e irrelevantes e gera uma lista total\n",
    "    lista_rel = list(comentarios_rel)\n",
    "    lista_irrel = list(comentarios_irrel)\n",
    "    lista_total = lista_rel + lista_irrel\n",
    "    lista_total_sem_repeticao = list(set(lista_total))\n",
    "    total = pd.Series(lista_palavras)\n",
    "\n",
    "    # Frequencias absolutas\n",
    "    freq_palavras_relevantes_abs = comentarios_rel.value_counts()\n",
    "    freq_palavras_irrelevantes_abs = comentarios_irrel.value_counts()\n",
    "    freq_palavras_total_abs = comentarios.value_counts()\n",
    "\n",
    "    P_Relevantes = len(lista_rel) / len(total)\n",
    "    \n",
    "    # Por complementar, temos P_Rc\n",
    "    P_Irrelevantes = len(lista_irrel) / len(total)\n",
    "    \n",
    "\n",
    "    round(P_Relevantes,2)+round(P_Irrelevantes,2)==1\n",
    "\n",
    "    X_test['Classificador'] = X_test['Relevância'].apply(NB)\n",
    "\n",
    "    verdadeiros_pos = X_test.loc[(X_test['Classificador'] == 1) & (X_test['Classificação'] == 1),:].shape[0]\n",
    "    verdadeiros_neg = X_test.loc[(X_test['Classificador'] == 0) & (X_test['Classificação'] == 0),:].shape[0]\n",
    "    acuracia = (verdadeiros_pos + verdadeiros_neg)/X_test.shape[0]\n",
    "    l_histograma.append(acuracia * 100)\n",
    "\n",
    "    repeticoes-=1"
   ]
  },
  {
   "cell_type": "markdown",
   "metadata": {},
   "source": [
    "## Histograma para análise de frequência de acurácia nas 100 tentativas de classificação e redistribuição do DataFrame."
   ]
  },
  {
   "cell_type": "code",
   "execution_count": 380,
   "metadata": {},
   "outputs": [
    {
     "data": {
      "image/png": "[encoded data removed]",
      "text/plain": [
       "<Figure size 720x360 with 1 Axes>"
      ]
     },
     "metadata": {
      "needs_background": "light"
     },
     "output_type": "display_data"
    }
   ],
   "source": [
    "faixa=np.arange(40,65,1)\n",
    "plt.figure(figsize=(10, 5))\n",
    "plt.hist(l_histograma, bins=faixa,color='black', edgecolor='white', density=False)\n",
    "plt.title('Frequência de Acurácia do Classificador')\n",
    "plt.ylabel('Frequência')\n",
    "plt.xlabel('Porcentagem de acerto (%)')\n",
    "plt.show()"
   ]
  },
  {
   "cell_type": "code",
   "execution_count": 439,
   "metadata": {},
   "outputs": [
    {
     "name": "stdout",
     "output_type": "stream",
     "text": [
      "Acurácia máxima:  60.93\n",
      "Acurácia mínima:  41.06\n",
      "Acurácia média:  51.2\n",
      "Acurácia mediana:  50.99\n"
     ]
    }
   ],
   "source": [
    "\n",
    "print('Acurácia máxima: ', round(max(l_histograma), 2))\n",
    "print('Acurácia mínima: ', round(min(l_histograma), 2))\n",
    "print('Acurácia média: ', round(sum(l_histograma)/len(l_histograma), 2))\n",
    "ordem=(sorted(l_histograma,key=int))\n",
    "print('Acurácia mediana: ', round((ordem[49]+ordem[50])/2, 2))"
   ]
  },
  {
   "cell_type": "markdown",
   "metadata": {},
   "source": [
    "Com o histograma acima e com a impressão de algumas medidas-resumo, é possivel perceber uma distribuição aproximadamente simétrica, dado que o valor máximo e o valor mínimo estão na mesa distância do valor médio, além da mediana ser aproximadamente igual ao valor médio.\n",
    "Além disso, é visível que a mudança na distruibuição dos tweets alterou o valor da acurácia, logo cabe ao desenvolvedor recolher dados que estejam adequados ao interesse, sem buscar inviesar os dados.\n",
    "    "
   ]
  },
  {
   "cell_type": "markdown",
   "metadata": {},
   "source": [
    "___\n",
    "## Aperfeiçoamento:\n",
    "\n",
    "Trabalhos que conseguirem pelo menos conceito B vão evoluir em conceito dependendo da quantidade de itens avançados:\n",
    "\n",
    "* ok! IMPLEMENTOU outras limpezas e transformações que não afetem a qualidade da informação contida nos tweets. Ex: stemming, lemmatization, stopwords\n",
    "* ok! CORRIGIU separação de espaços entre palavras e emojis ou entre emojis e emojis\n",
    "* notok! CRIOU categorias intermediárias de relevância baseadas na probabilidade: ex.: muito relevante, relevante, neutro, irrelevante, muito irrelevante. Pelo menos quatro categorias, com adição de mais tweets na base, conforme enunciado. (OBRIGATÓRIO PARA TRIOS, sem contar como item avançado)\n",
    "* EXPLICOU porquê não pode usar o próprio classificador para gerar mais amostras de treinamento\n",
    "* PROPÔS diferentes cenários para Naïve Bayes fora do contexto do projeto\n",
    "* SUGERIU e EXPLICOU melhorias reais com indicações concretas de como implementar (indicar como fazer e indicar material de pesquisa)\n",
    "* ok! FEZ o item 6. Qualidade do Classificador a partir de novas separações dos tweets entre Treinamento e Teste descrito no enunciado do projeto (OBRIGATÓRIO para conceitos A ou A+)"
   ]
  },
  {
   "cell_type": "markdown",
   "metadata": {},
   "source": [
    "___\n",
    "## Referências"
   ]
  },
  {
   "cell_type": "markdown",
   "metadata": {},
   "source": [
    "[Naive Bayes and Text Classification](https://arxiv.org/pdf/1410.5329.pdf)  **Mais completo**\n",
    "\n",
    "[A practical explanation of a Naive Bayes Classifier](https://monkeylearn.com/blog/practical-explanation-naive-bayes-classifier/) **Mais simples**"
   ]
  },
  {
   "cell_type": "code",
   "execution_count": null,
   "metadata": {},
   "outputs": [],
   "source": []
  }
 ],
 "metadata": {
  "kernelspec": {
   "display_name": "Python 3",
   "language": "python",
   "name": "python3"
  },
  "language_info": {
   "codemirror_mode": {
    "name": "ipython",
    "version": 3
   },
   "file_extension": ".py",
   "mimetype": "text/x-python",
   "name": "python",
   "nbconvert_exporter": "python",
   "pygments_lexer": "ipython3",
   "version": "3.8.5"
  }
 },
 "nbformat": 4,
 "nbformat_minor": 4
}
